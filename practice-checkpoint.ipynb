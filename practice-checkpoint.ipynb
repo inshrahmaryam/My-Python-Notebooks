{
 "cells": [
  {
   "cell_type": "code",
   "execution_count": 1,
   "id": "5478cbcf-2d0d-41fc-9754-ddcaaa68dc68",
   "metadata": {},
   "outputs": [
    {
     "name": "stdout",
     "output_type": "stream",
     "text": [
      "hello world\n"
     ]
    }
   ],
   "source": [
    "print('hello world')\n"
   ]
  },
  {
   "cell_type": "code",
   "execution_count": 2,
   "id": "20e8eec5-f945-4be3-9cff-56cd7db3eb61",
   "metadata": {},
   "outputs": [
    {
     "data": {
      "text/plain": [
       "str"
      ]
     },
     "execution_count": 2,
     "metadata": {},
     "output_type": "execute_result"
    }
   ],
   "source": [
    "type('its a string')\n"
   ]
  },
  {
   "cell_type": "code",
   "execution_count": 3,
   "id": "8a9022bd-2f4f-4858-8fa5-01e7930affcb",
   "metadata": {},
   "outputs": [
    {
     "data": {
      "text/plain": [
       "int"
      ]
     },
     "execution_count": 3,
     "metadata": {},
     "output_type": "execute_result"
    }
   ],
   "source": [
    "type(2+5)"
   ]
  },
  {
   "cell_type": "code",
   "execution_count": 4,
   "id": "d04d42f4-b219-438d-87b7-979295683338",
   "metadata": {},
   "outputs": [
    {
     "name": "stdout",
     "output_type": "stream",
     "text": [
      "123\n"
     ]
    }
   ],
   "source": [
    "print(33+90)\n"
   ]
  },
  {
   "cell_type": "code",
   "execution_count": 5,
   "id": "ea72f55d-9c0d-42cd-aefb-811c5cfc80b0",
   "metadata": {},
   "outputs": [],
   "source": [
    "def greet():\n",
    "    name=input(\"enter your name:\")\n",
    "    time=input(\"enter the time of the day\")\n",
    "    print(\"good\" + time + \",\" + name + \"!\")"
   ]
  },
  {
   "cell_type": "code",
   "execution_count": 6,
   "id": "94ac76ae-3219-4bbb-9523-d8727fc6dc0d",
   "metadata": {},
   "outputs": [
    {
     "name": "stdin",
     "output_type": "stream",
     "text": [
      "whats your fav color? blue\n"
     ]
    }
   ],
   "source": [
    "color=input(\"whats your fav color?\")"
   ]
  },
  {
   "cell_type": "code",
   "execution_count": 7,
   "id": "bcd40d4c-8e08-458e-90e0-9e8f37c72639",
   "metadata": {},
   "outputs": [
    {
     "name": "stdin",
     "output_type": "stream",
     "text": [
      "enter your name: maryam\n",
      "enter the time of the day 7:10\n"
     ]
    },
    {
     "name": "stdout",
     "output_type": "stream",
     "text": [
      "good7:10,maryam!\n"
     ]
    }
   ],
   "source": [
    "greet()"
   ]
  },
  {
   "cell_type": "code",
   "execution_count": 8,
   "id": "9baf92b6-c73f-412c-bea6-181e4952edf9",
   "metadata": {},
   "outputs": [],
   "source": [
    "def addFive(x):\n",
    "    print(5+x)\n"
   ]
  },
  {
   "cell_type": "code",
   "execution_count": 9,
   "id": "57be784e-4228-4581-bfd0-40b9952f68a9",
   "metadata": {},
   "outputs": [
    {
     "name": "stdout",
     "output_type": "stream",
     "text": [
      "35\n"
     ]
    }
   ],
   "source": [
    "addFive(30)"
   ]
  },
  {
   "cell_type": "code",
   "execution_count": 10,
   "id": "526b017a-671b-4bcf-b538-2a614cfc5518",
   "metadata": {},
   "outputs": [],
   "source": [
    "def greeting():\n",
    "    print(\"hey there\")"
   ]
  },
  {
   "cell_type": "code",
   "execution_count": 11,
   "id": "1cd0eb43-824d-4ec0-af7d-8ebe9f93ba96",
   "metadata": {},
   "outputs": [
    {
     "name": "stdout",
     "output_type": "stream",
     "text": [
      "hey there\n"
     ]
    }
   ],
   "source": [
    "greeting()"
   ]
  },
  {
   "cell_type": "code",
   "execution_count": 12,
   "id": "b3cc1bf7-7984-4deb-83fd-3d31b3f7e67a",
   "metadata": {},
   "outputs": [],
   "source": [
    "def greet(name):\n",
    "    print(\"hi\" + name + \"!\")"
   ]
  },
  {
   "cell_type": "code",
   "execution_count": 26,
   "id": "6a5f5571-8105-4b55-a49c-fe36ae846fd9",
   "metadata": {},
   "outputs": [],
   "source": [
    "def square(x): \n",
    "    return x*x"
   ]
  },
  {
   "cell_type": "code",
   "execution_count": 28,
   "id": "64cabebd-aee6-4f70-8468-e52132fbf89c",
   "metadata": {},
   "outputs": [],
   "source": [
    "result=square(5)"
   ]
  },
  {
   "cell_type": "code",
   "execution_count": 30,
   "id": "f147fe64-ece6-4810-8f94-1018bac34133",
   "metadata": {},
   "outputs": [
    {
     "name": "stdout",
     "output_type": "stream",
     "text": [
      "25\n"
     ]
    }
   ],
   "source": [
    "print(result)\n"
   ]
  },
  {
   "cell_type": "code",
   "execution_count": 32,
   "id": "1de88f3c-9378-486c-a565-7b8ef123741c",
   "metadata": {},
   "outputs": [],
   "source": [
    "def is_it_raining():\n",
    "    raining=input(\"is it raining today?\")\n",
    "    return raining"
   ]
  },
  {
   "cell_type": "code",
   "execution_count": 34,
   "id": "9b0725d5-657f-4c09-86d0-743c329c9eed",
   "metadata": {},
   "outputs": [
    {
     "name": "stdin",
     "output_type": "stream",
     "text": [
      "is it raining today? maybe\n"
     ]
    },
    {
     "data": {
      "text/plain": [
       "'maybe'"
      ]
     },
     "execution_count": 34,
     "metadata": {},
     "output_type": "execute_result"
    }
   ],
   "source": [
    "is_it_raining()"
   ]
  },
  {
   "cell_type": "code",
   "execution_count": 36,
   "id": "5dc08323-14d7-44bc-bd02-7fe850c1ca80",
   "metadata": {},
   "outputs": [],
   "source": [
    "import calendar\n"
   ]
  },
  {
   "cell_type": "code",
   "execution_count": 38,
   "id": "bd912f67-6c9c-4b80-933a-74f3606df589",
   "metadata": {},
   "outputs": [],
   "source": [
    "cal=calendar.month(2019,7)"
   ]
  },
  {
   "cell_type": "code",
   "execution_count": 40,
   "id": "2357da1a-740c-4f0b-a9c5-37c1dab3fc3a",
   "metadata": {},
   "outputs": [
    {
     "name": "stdout",
     "output_type": "stream",
     "text": [
      "     July 2019\n",
      "Mo Tu We Th Fr Sa Su\n",
      " 1  2  3  4  5  6  7\n",
      " 8  9 10 11 12 13 14\n",
      "15 16 17 18 19 20 21\n",
      "22 23 24 25 26 27 28\n",
      "29 30 31\n",
      "\n"
     ]
    }
   ],
   "source": [
    "print(cal)\n"
   ]
  },
  {
   "cell_type": "code",
   "execution_count": 42,
   "id": "ec6ac9c6-5ad4-48b6-97e2-9a060b8df03e",
   "metadata": {},
   "outputs": [],
   "source": [
    "import math"
   ]
  },
  {
   "cell_type": "code",
   "execution_count": 44,
   "id": "81456060-927d-4ded-9e66-f86a2f7ac4e1",
   "metadata": {},
   "outputs": [],
   "source": [
    "result=math.sqrt(49)"
   ]
  },
  {
   "cell_type": "code",
   "execution_count": 46,
   "id": "f7abb820-78e3-4796-8ab0-946a71e74b86",
   "metadata": {},
   "outputs": [
    {
     "name": "stdout",
     "output_type": "stream",
     "text": [
      "7.0\n"
     ]
    }
   ],
   "source": [
    "print(result)"
   ]
  },
  {
   "cell_type": "code",
   "execution_count": 48,
   "id": "63ade712-428e-43fb-8dce-11696d0b1dd8",
   "metadata": {},
   "outputs": [],
   "source": [
    "import random"
   ]
  },
  {
   "cell_type": "code",
   "execution_count": 50,
   "id": "feacc303-0d70-4ce4-af6f-790aadab11fa",
   "metadata": {},
   "outputs": [],
   "source": [
    "number=random.randint(1,100)"
   ]
  },
  {
   "cell_type": "code",
   "execution_count": 54,
   "id": "b020ee16-a83a-400a-ade3-6f7965bf1e31",
   "metadata": {},
   "outputs": [
    {
     "name": "stdout",
     "output_type": "stream",
     "text": [
      "23\n"
     ]
    }
   ],
   "source": [
    "print(number)"
   ]
  },
  {
   "cell_type": "code",
   "execution_count": 56,
   "id": "f217a892-805e-473f-be98-3e1f5dece66e",
   "metadata": {},
   "outputs": [
    {
     "name": "stdout",
     "output_type": "stream",
     "text": [
      "23\n"
     ]
    }
   ],
   "source": [
    "print(number)"
   ]
  },
  {
   "cell_type": "code",
   "execution_count": 58,
   "id": "b999bc3d-e2fe-40ee-9722-b7f20d19fa1b",
   "metadata": {},
   "outputs": [],
   "source": [
    "listA=[4,5,7,12,10]"
   ]
  },
  {
   "cell_type": "code",
   "execution_count": 60,
   "id": "8ee607bc-beae-4eba-a79b-31e115cfeb3e",
   "metadata": {},
   "outputs": [
    {
     "name": "stdout",
     "output_type": "stream",
     "text": [
      "[4, 5, 7, 12, 10]\n"
     ]
    }
   ],
   "source": [
    "print(listA)"
   ]
  },
  {
   "cell_type": "code",
   "execution_count": 64,
   "id": "9b150fe7-29ad-48c5-b11d-ea71d8112b54",
   "metadata": {},
   "outputs": [
    {
     "name": "stdout",
     "output_type": "stream",
     "text": [
      "12\n"
     ]
    }
   ],
   "source": [
    "print(listA[3])"
   ]
  },
  {
   "cell_type": "code",
   "execution_count": 72,
   "id": "edc92095-67a7-4492-8b04-8b10e3e0cd91",
   "metadata": {},
   "outputs": [],
   "source": [
    "listmine=[True, \"stardust\",87,\"hello\"]"
   ]
  },
  {
   "cell_type": "code",
   "execution_count": 74,
   "id": "1164726a-0368-4f0b-b3c2-9e4a323e2d33",
   "metadata": {},
   "outputs": [
    {
     "name": "stdout",
     "output_type": "stream",
     "text": [
      "[True, 'stardust', 87, 'hello']\n"
     ]
    }
   ],
   "source": [
    "print(listmine)"
   ]
  },
  {
   "cell_type": "code",
   "execution_count": 88,
   "id": "00237058-8a85-4b64-a391-6104c66a9ed0",
   "metadata": {},
   "outputs": [],
   "source": [
    "child1_birth=(\"malaika\", \"chris hospital\", \"lhe\", \"4/2/1998\")"
   ]
  },
  {
   "cell_type": "code",
   "execution_count": 90,
   "id": "8a35d12b-212b-4d3f-abaa-ee89d6d22b64",
   "metadata": {},
   "outputs": [],
   "source": [
    "child2_birth=(\"justin\", \"madina hospital\", \"swl\", \"6/2/1890\")"
   ]
  },
  {
   "cell_type": "code",
   "execution_count": 92,
   "id": "f927e609-5d58-4bd9-8323-0bbbabd03ca6",
   "metadata": {},
   "outputs": [
    {
     "data": {
      "text/plain": [
       "tuple"
      ]
     },
     "execution_count": 92,
     "metadata": {},
     "output_type": "execute_result"
    }
   ],
   "source": [
    "type(child1_birth)"
   ]
  },
  {
   "cell_type": "code",
   "execution_count": 94,
   "id": "fd18e793-d77d-4a8c-a0ac-a3504ced0e67",
   "metadata": {},
   "outputs": [
    {
     "name": "stdout",
     "output_type": "stream",
     "text": [
      "('justin', 'madina hospital', 'swl', '6/2/1890')\n"
     ]
    }
   ],
   "source": [
    "print(child2_birth)"
   ]
  },
  {
   "cell_type": "code",
   "execution_count": 96,
   "id": "f0a2c8a8-0f10-4e91-9621-4d6ac4b2fd7d",
   "metadata": {},
   "outputs": [
    {
     "name": "stdout",
     "output_type": "stream",
     "text": [
      "6/2/1890\n"
     ]
    }
   ],
   "source": [
    "print(child2_birth[3])"
   ]
  },
  {
   "cell_type": "code",
   "execution_count": 130,
   "id": "494d2c71-cd7d-4c52-a2dc-619d03df44d8",
   "metadata": {},
   "outputs": [
    {
     "name": "stdin",
     "output_type": "stream",
     "text": [
      "choose an integer b/w -10 and 100 and enter: 55\n"
     ]
    },
    {
     "name": "stdout",
     "output_type": "stream",
     "text": [
      "the integer is greater than 5\n"
     ]
    }
   ],
   "source": [
    "n=input(\"choose an integer b/w -10 and 100 and enter:\")\n",
    "n=int(n)\n",
    "if n <5:\n",
    "    print(\"the int is less than 5\")\n",
    "else:\n",
    "    print(\"the integer is greater than 5\")"
   ]
  },
  {
   "cell_type": "code",
   "execution_count": 132,
   "id": "91af2ecb-b4bf-4cd6-a319-7388d7b58be5",
   "metadata": {},
   "outputs": [],
   "source": [
    "def minimum(x,y):\n",
    "    if x<y:\n",
    "        return x\n",
    "    else:\n",
    "        return y\n",
    "        "
   ]
  },
  {
   "cell_type": "code",
   "execution_count": 134,
   "id": "68ea6481-423a-4588-a5c1-a43e94393ac3",
   "metadata": {},
   "outputs": [
    {
     "name": "stdout",
     "output_type": "stream",
     "text": [
      "2\n"
     ]
    }
   ],
   "source": [
    "result=minimum(2,5)\n",
    "print(result)"
   ]
  },
  {
   "cell_type": "code",
   "execution_count": 142,
   "id": "6959bea7-1215-4cae-96b3-b3ec84da083d",
   "metadata": {},
   "outputs": [
    {
     "name": "stdin",
     "output_type": "stream",
     "text": [
      "enter a number 20\n"
     ]
    },
    {
     "name": "stdout",
     "output_type": "stream",
     "text": [
      "number is > 10\n"
     ]
    }
   ],
   "source": [
    "x=input(\"enter a number\")\n",
    "x=float(x)\n",
    "if x<2:\n",
    "    print(\"number is < 2\")\n",
    "elif x <6:\n",
    "    print(\"number is < 6\")\n",
    "elif x <8:\n",
    "    print(\"number is < 8\")\n",
    "elif x < 10:\n",
    "    print(\"number is < 10\")\n",
    "else:\n",
    "    print(\"number is > 10\")\n",
    "    "
   ]
  },
  {
   "cell_type": "code",
   "execution_count": 140,
   "id": "eb9266b9-c10c-45b4-b5d1-41387dc8a885",
   "metadata": {},
   "outputs": [
    {
     "name": "stdout",
     "output_type": "stream",
     "text": [
      "9.0\n"
     ]
    }
   ],
   "source": [
    "d=9\n",
    "print(float(d))"
   ]
  },
  {
   "cell_type": "code",
   "execution_count": 146,
   "id": "57787b9a-d1b0-4b8a-8fa7-54f8706ec6d0",
   "metadata": {},
   "outputs": [
    {
     "name": "stdout",
     "output_type": "stream",
     "text": [
      "1\n",
      "2\n",
      "3\n",
      "4\n",
      "5\n",
      "6\n"
     ]
    }
   ],
   "source": [
    "word=\"serendipitous\"\n",
    "vowels=[\"a\", \"e\", \"i\", \"o\", \"u\"]\n",
    "vowelCount=0\n",
    "for character in word:\n",
    "    if character in vowels:\n",
    "        vowelCount+=1\n",
    "        print(vowelCount)"
   ]
  },
  {
   "cell_type": "code",
   "execution_count": 148,
   "id": "9a3062f6-b37a-412a-a695-0990fb053250",
   "metadata": {},
   "outputs": [
    {
     "name": "stdout",
     "output_type": "stream",
     "text": [
      "0\n",
      "1\n",
      "2\n",
      "3\n"
     ]
    }
   ],
   "source": [
    "for i in range(4):\n",
    "    print(i)"
   ]
  },
  {
   "cell_type": "code",
   "execution_count": 162,
   "id": "3153ca05-4b44-4cbd-9f21-42c0978a440f",
   "metadata": {},
   "outputs": [
    {
     "name": "stdout",
     "output_type": "stream",
     "text": [
      "1\n",
      "3\n",
      "5\n",
      "7\n",
      "9\n"
     ]
    }
   ],
   "source": [
    "for z in range(1,10,2):\n",
    "    print(z)"
   ]
  },
  {
   "cell_type": "code",
   "execution_count": 182,
   "id": "4e987843-6227-4d05-ba70-5f34b7cb3c8b",
   "metadata": {},
   "outputs": [],
   "source": [
    "class Dog():\n",
    "    def __init__(self, name, age):\n",
    "        self.name=name\n",
    "        self.age=age\n",
    "    def bark(self):\n",
    "            print(\"woof woof!\")"
   ]
  },
  {
   "cell_type": "code",
   "execution_count": 184,
   "id": "80a60725-8bb8-4839-8072-545566c5969d",
   "metadata": {},
   "outputs": [],
   "source": [
    "fido=Dog(\"Fido\",2)"
   ]
  },
  {
   "cell_type": "code",
   "execution_count": 186,
   "id": "228c9575-98f0-44a3-8621-a66a7b007040",
   "metadata": {},
   "outputs": [
    {
     "name": "stdout",
     "output_type": "stream",
     "text": [
      "woof woof!\n"
     ]
    }
   ],
   "source": [
    "fido.bark()"
   ]
  },
  {
   "cell_type": "code",
   "execution_count": 188,
   "id": "3aa2df98-e1ba-481b-ae5b-85ba82f4e85f",
   "metadata": {},
   "outputs": [
    {
     "name": "stdout",
     "output_type": "stream",
     "text": [
      "Fido\n"
     ]
    }
   ],
   "source": [
    "print(fido.name)\n"
   ]
  },
  {
   "cell_type": "code",
   "execution_count": 190,
   "id": "b9a39bc7-8630-4a19-ad20-a5525dc4861b",
   "metadata": {},
   "outputs": [
    {
     "name": "stdout",
     "output_type": "stream",
     "text": [
      "2\n"
     ]
    }
   ],
   "source": [
    "print(fido.age)"
   ]
  },
  {
   "cell_type": "code",
   "execution_count": 192,
   "id": "2adf073d-722f-4e08-82cb-34824fd15d0e",
   "metadata": {},
   "outputs": [
    {
     "name": "stdout",
     "output_type": "stream",
     "text": [
      "woof woof!\n"
     ]
    }
   ],
   "source": [
    "fido.bark()"
   ]
  },
  {
   "cell_type": "code",
   "execution_count": 194,
   "id": "94c8907b-478f-4896-b004-0e426b8f23ef",
   "metadata": {},
   "outputs": [],
   "source": [
    "fido.age+=1"
   ]
  },
  {
   "cell_type": "code",
   "execution_count": 196,
   "id": "f8343dcc-6871-4bff-8996-c09a9a4800ee",
   "metadata": {},
   "outputs": [
    {
     "name": "stdout",
     "output_type": "stream",
     "text": [
      "3\n"
     ]
    }
   ],
   "source": [
    "print(fido.age)"
   ]
  },
  {
   "cell_type": "code",
   "execution_count": 200,
   "id": "adc377d9-af29-41a7-bdc7-5b1fd1f98992",
   "metadata": {},
   "outputs": [],
   "source": [
    "class Poodle(Dog):\n",
    "    def __init__(self, name, age, color, weight):\n",
    "        super().__init__(name, age)\n",
    "        self.color = color\n",
    "        self.weight = weight\n",
    "\n",
    "    def bark(self, manner=\"energetically\"):\n",
    "        print(f\"{self.name} is a {self.age}-year-old {self.color} poodle, weighs {self.weight} pounds, and is barking {manner}!\")\n"
   ]
  },
  {
   "cell_type": "code",
   "execution_count": 202,
   "id": "4591d747-3ac4-44d1-869c-f45428db6d5c",
   "metadata": {},
   "outputs": [
    {
     "name": "stdout",
     "output_type": "stream",
     "text": [
      "Fido is a 3-year-old white poodle, weighs 25 pounds, and is barking energetically!\n",
      "Fido is a 3-year-old white poodle, weighs 25 pounds, and is barking loudly!\n"
     ]
    }
   ],
   "source": [
    "fido = Poodle(\"Fido\", 3, \"white\", 25)\n",
    "fido.bark()  \n",
    "# Output: Fido is a 3-year-old white poodle, weighs 25 pounds, and is barking energetically!\n",
    "\n",
    "fido.bark(\"loudly\")\n",
    "# Output: Fido is a 3-year-old white poodle, weighs 25 pounds, and is barking loudly!\n",
    "\n"
   ]
  },
  {
   "cell_type": "code",
   "execution_count": null,
   "id": "097e7d80-32b9-48db-9e33-3cde7eb0992e",
   "metadata": {},
   "outputs": [],
   "source": []
  }
 ],
 "metadata": {
  "kernelspec": {
   "display_name": "Python [conda env:base] *",
   "language": "python",
   "name": "conda-base-py"
  },
  "language_info": {
   "codemirror_mode": {
    "name": "ipython",
    "version": 3
   },
   "file_extension": ".py",
   "mimetype": "text/x-python",
   "name": "python",
   "nbconvert_exporter": "python",
   "pygments_lexer": "ipython3",
   "version": "3.12.7"
  }
 },
 "nbformat": 4,
 "nbformat_minor": 5
}
