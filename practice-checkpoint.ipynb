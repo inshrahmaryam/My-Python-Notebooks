{
 "cells": [
  {
   "cell_type": "code",
   "execution_count": 1,
   "id": "5478cbcf-2d0d-41fc-9754-ddcaaa68dc68",
   "metadata": {},
   "outputs": [
    {
     "name": "stdout",
     "output_type": "stream",
     "text": [
      "hello world\n"
     ]
    }
   ],
   "source": [
    "print('hello world')\n"
   ]
  },
  {
   "cell_type": "code",
   "execution_count": 3,
   "id": "20e8eec5-f945-4be3-9cff-56cd7db3eb61",
   "metadata": {},
   "outputs": [
    {
     "data": {
      "text/plain": [
       "str"
      ]
     },
     "execution_count": 3,
     "metadata": {},
     "output_type": "execute_result"
    }
   ],
   "source": [
    "type('its a string')\n"
   ]
  },
  {
   "cell_type": "code",
   "execution_count": 5,
   "id": "8a9022bd-2f4f-4858-8fa5-01e7930affcb",
   "metadata": {},
   "outputs": [
    {
     "data": {
      "text/plain": [
       "int"
      ]
     },
     "execution_count": 5,
     "metadata": {},
     "output_type": "execute_result"
    }
   ],
   "source": [
    "type(2+5)"
   ]
  },
  {
   "cell_type": "code",
   "execution_count": 7,
   "id": "d04d42f4-b219-438d-87b7-979295683338",
   "metadata": {},
   "outputs": [
    {
     "name": "stdout",
     "output_type": "stream",
     "text": [
      "123\n"
     ]
    }
   ],
   "source": [
    "print(33+90)\n"
   ]
  },
  {
   "cell_type": "code",
   "execution_count": 19,
   "id": "ea72f55d-9c0d-42cd-aefb-811c5cfc80b0",
   "metadata": {},
   "outputs": [],
   "source": [
    "def greet():\n",
    "    name=input(\"enter your name:\")\n",
    "    time=input(\"enter the time of the day\")\n",
    "    print(\"good\" + time + \",\" + name + \"!\")"
   ]
  },
  {
   "cell_type": "code",
   "execution_count": 21,
   "id": "94ac76ae-3219-4bbb-9523-d8727fc6dc0d",
   "metadata": {},
   "outputs": [
    {
     "name": "stdin",
     "output_type": "stream",
     "text": [
      "whats your fav color? black\n"
     ]
    }
   ],
   "source": [
    "color=input(\"whats your fav color?\")"
   ]
  },
  {
   "cell_type": "code",
   "execution_count": null,
   "id": "bcd40d4c-8e08-458e-90e0-9e8f37c72639",
   "metadata": {},
   "outputs": [
    {
     "name": "stdin",
     "output_type": "stream",
     "text": [
      "enter your name: maryam\n",
      "enter the time of the day 3:06\n"
     ]
    },
    {
     "name": "stdout",
     "output_type": "stream",
     "text": [
      "good3:06,maryam!\n"
     ]
    }
   ],
   "source": [
    "greet()"
   ]
  },
  {
   "cell_type": "code",
   "execution_count": null,
   "id": "9baf92b6-c73f-412c-bea6-181e4952edf9",
   "metadata": {},
   "outputs": [],
   "source": []
  }
 ],
 "metadata": {
  "kernelspec": {
   "display_name": "Python [conda env:base] *",
   "language": "python",
   "name": "conda-base-py"
  },
  "language_info": {
   "codemirror_mode": {
    "name": "ipython",
    "version": 3
   },
   "file_extension": ".py",
   "mimetype": "text/x-python",
   "name": "python",
   "nbconvert_exporter": "python",
   "pygments_lexer": "ipython3",
   "version": "3.12.7"
  }
 },
 "nbformat": 4,
 "nbformat_minor": 5
}
